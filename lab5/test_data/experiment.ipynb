{
 "cells": [
  {
   "cell_type": "code",
   "execution_count": 5,
   "metadata": {
    "collapsed": true
   },
   "outputs": [],
   "source": [
    "import pandas as pd\n",
    "import numpy as np\n",
    "import os\n",
    "import time\n",
    "input_size=[1000,10000,500] # start end step"
   ]
  },
  {
   "cell_type": "code",
   "execution_count": 6,
   "outputs": [],
   "source": [
    "def generate_test_file():\n",
    "    global input_size\n",
    "    file_list = os.listdir()\n",
    "    for file in file_list:\n",
    "        if file.endswith(\".txt\"):\n",
    "            os.remove(file)\n",
    "    size_of_backpack = 5000\n",
    "\n",
    "    for i in range(input_size[0],input_size[1]+input_size[2],input_size[2]):\n",
    "        for j in range(0,3):\n",
    "            os.system(f\"python kp_generate.py {i} {size_of_backpack} 100 {i}-{j}.txt\")"
   ],
   "metadata": {
    "collapsed": false
   }
  },
  {
   "cell_type": "code",
   "execution_count": 7,
   "outputs": [],
   "source": [
    "generate_test_file()\n",
    "test_result = pd.DataFrame(columns=[\"input_size\",\"time\"])\n",
    "for i in range(input_size[0],input_size[1]+input_size[2],input_size[2]):\n",
    "    for j in range(0,3):\n",
    "        start_time=time.time()\n",
    "        os.system(f\"python dp_kp.py {i}-{j}.txt\")\n",
    "        end_time=time.time()\n",
    "        test_result.loc[len(test_result)]=[i,end_time-start_time]"
   ],
   "metadata": {
    "collapsed": false
   }
  },
  {
   "cell_type": "code",
   "execution_count": 9,
   "outputs": [
    {
     "data": {
      "text/plain": "    input_size       time\n0       1000.0   1.958168\n1       1000.0   2.173295\n2       1000.0   2.011787\n3       1500.0   3.008599\n4       1500.0   2.829388\n5       1500.0   2.844838\n6       2000.0   3.729841\n7       2000.0   3.781439\n8       2000.0   3.813689\n9       2500.0   4.778131\n10      2500.0   4.746548\n11      2500.0   5.088640\n12      3000.0   5.569350\n13      3000.0   5.533548\n14      3000.0   5.743710\n15      3500.0   6.483043\n16      3500.0   6.624969\n17      3500.0   6.509741\n18      4000.0   7.471801\n19      4000.0   7.267732\n20      4000.0   7.400634\n21      4500.0   8.132182\n22      4500.0   8.896319\n23      4500.0   8.114000\n24      5000.0   9.220909\n25      5000.0   9.729287\n26      5000.0   9.043919\n27      5500.0  10.299445\n28      5500.0  10.090659\n29      5500.0   9.790662\n30      6000.0  10.663083\n31      6000.0  10.679829\n32      6000.0  10.499417\n33      6500.0  11.634692\n34      6500.0  11.572349\n35      6500.0  11.638965\n36      7000.0  12.258482\n37      7000.0  12.285717\n38      7000.0  12.400571\n39      7500.0  13.742692\n40      7500.0  11.178935\n41      7500.0  11.225804\n42      8000.0  11.897611\n43      8000.0  11.837407\n44      8000.0  12.395329\n45      8500.0  13.182894\n46      8500.0  12.402732\n47      8500.0  12.477992\n48      9000.0  13.312918\n49      9000.0  13.256037\n50      9000.0  13.870997\n51      9500.0  13.801885\n52      9500.0  13.981994\n53      9500.0  14.214002\n54     10000.0  14.483017\n55     10000.0  14.955554\n56     10000.0  15.185996",
      "text/html": "<div>\n<style scoped>\n    .dataframe tbody tr th:only-of-type {\n        vertical-align: middle;\n    }\n\n    .dataframe tbody tr th {\n        vertical-align: top;\n    }\n\n    .dataframe thead th {\n        text-align: right;\n    }\n</style>\n<table border=\"1\" class=\"dataframe\">\n  <thead>\n    <tr style=\"text-align: right;\">\n      <th></th>\n      <th>input_size</th>\n      <th>time</th>\n    </tr>\n  </thead>\n  <tbody>\n    <tr>\n      <th>0</th>\n      <td>1000.0</td>\n      <td>1.958168</td>\n    </tr>\n    <tr>\n      <th>1</th>\n      <td>1000.0</td>\n      <td>2.173295</td>\n    </tr>\n    <tr>\n      <th>2</th>\n      <td>1000.0</td>\n      <td>2.011787</td>\n    </tr>\n    <tr>\n      <th>3</th>\n      <td>1500.0</td>\n      <td>3.008599</td>\n    </tr>\n    <tr>\n      <th>4</th>\n      <td>1500.0</td>\n      <td>2.829388</td>\n    </tr>\n    <tr>\n      <th>5</th>\n      <td>1500.0</td>\n      <td>2.844838</td>\n    </tr>\n    <tr>\n      <th>6</th>\n      <td>2000.0</td>\n      <td>3.729841</td>\n    </tr>\n    <tr>\n      <th>7</th>\n      <td>2000.0</td>\n      <td>3.781439</td>\n    </tr>\n    <tr>\n      <th>8</th>\n      <td>2000.0</td>\n      <td>3.813689</td>\n    </tr>\n    <tr>\n      <th>9</th>\n      <td>2500.0</td>\n      <td>4.778131</td>\n    </tr>\n    <tr>\n      <th>10</th>\n      <td>2500.0</td>\n      <td>4.746548</td>\n    </tr>\n    <tr>\n      <th>11</th>\n      <td>2500.0</td>\n      <td>5.088640</td>\n    </tr>\n    <tr>\n      <th>12</th>\n      <td>3000.0</td>\n      <td>5.569350</td>\n    </tr>\n    <tr>\n      <th>13</th>\n      <td>3000.0</td>\n      <td>5.533548</td>\n    </tr>\n    <tr>\n      <th>14</th>\n      <td>3000.0</td>\n      <td>5.743710</td>\n    </tr>\n    <tr>\n      <th>15</th>\n      <td>3500.0</td>\n      <td>6.483043</td>\n    </tr>\n    <tr>\n      <th>16</th>\n      <td>3500.0</td>\n      <td>6.624969</td>\n    </tr>\n    <tr>\n      <th>17</th>\n      <td>3500.0</td>\n      <td>6.509741</td>\n    </tr>\n    <tr>\n      <th>18</th>\n      <td>4000.0</td>\n      <td>7.471801</td>\n    </tr>\n    <tr>\n      <th>19</th>\n      <td>4000.0</td>\n      <td>7.267732</td>\n    </tr>\n    <tr>\n      <th>20</th>\n      <td>4000.0</td>\n      <td>7.400634</td>\n    </tr>\n    <tr>\n      <th>21</th>\n      <td>4500.0</td>\n      <td>8.132182</td>\n    </tr>\n    <tr>\n      <th>22</th>\n      <td>4500.0</td>\n      <td>8.896319</td>\n    </tr>\n    <tr>\n      <th>23</th>\n      <td>4500.0</td>\n      <td>8.114000</td>\n    </tr>\n    <tr>\n      <th>24</th>\n      <td>5000.0</td>\n      <td>9.220909</td>\n    </tr>\n    <tr>\n      <th>25</th>\n      <td>5000.0</td>\n      <td>9.729287</td>\n    </tr>\n    <tr>\n      <th>26</th>\n      <td>5000.0</td>\n      <td>9.043919</td>\n    </tr>\n    <tr>\n      <th>27</th>\n      <td>5500.0</td>\n      <td>10.299445</td>\n    </tr>\n    <tr>\n      <th>28</th>\n      <td>5500.0</td>\n      <td>10.090659</td>\n    </tr>\n    <tr>\n      <th>29</th>\n      <td>5500.0</td>\n      <td>9.790662</td>\n    </tr>\n    <tr>\n      <th>30</th>\n      <td>6000.0</td>\n      <td>10.663083</td>\n    </tr>\n    <tr>\n      <th>31</th>\n      <td>6000.0</td>\n      <td>10.679829</td>\n    </tr>\n    <tr>\n      <th>32</th>\n      <td>6000.0</td>\n      <td>10.499417</td>\n    </tr>\n    <tr>\n      <th>33</th>\n      <td>6500.0</td>\n      <td>11.634692</td>\n    </tr>\n    <tr>\n      <th>34</th>\n      <td>6500.0</td>\n      <td>11.572349</td>\n    </tr>\n    <tr>\n      <th>35</th>\n      <td>6500.0</td>\n      <td>11.638965</td>\n    </tr>\n    <tr>\n      <th>36</th>\n      <td>7000.0</td>\n      <td>12.258482</td>\n    </tr>\n    <tr>\n      <th>37</th>\n      <td>7000.0</td>\n      <td>12.285717</td>\n    </tr>\n    <tr>\n      <th>38</th>\n      <td>7000.0</td>\n      <td>12.400571</td>\n    </tr>\n    <tr>\n      <th>39</th>\n      <td>7500.0</td>\n      <td>13.742692</td>\n    </tr>\n    <tr>\n      <th>40</th>\n      <td>7500.0</td>\n      <td>11.178935</td>\n    </tr>\n    <tr>\n      <th>41</th>\n      <td>7500.0</td>\n      <td>11.225804</td>\n    </tr>\n    <tr>\n      <th>42</th>\n      <td>8000.0</td>\n      <td>11.897611</td>\n    </tr>\n    <tr>\n      <th>43</th>\n      <td>8000.0</td>\n      <td>11.837407</td>\n    </tr>\n    <tr>\n      <th>44</th>\n      <td>8000.0</td>\n      <td>12.395329</td>\n    </tr>\n    <tr>\n      <th>45</th>\n      <td>8500.0</td>\n      <td>13.182894</td>\n    </tr>\n    <tr>\n      <th>46</th>\n      <td>8500.0</td>\n      <td>12.402732</td>\n    </tr>\n    <tr>\n      <th>47</th>\n      <td>8500.0</td>\n      <td>12.477992</td>\n    </tr>\n    <tr>\n      <th>48</th>\n      <td>9000.0</td>\n      <td>13.312918</td>\n    </tr>\n    <tr>\n      <th>49</th>\n      <td>9000.0</td>\n      <td>13.256037</td>\n    </tr>\n    <tr>\n      <th>50</th>\n      <td>9000.0</td>\n      <td>13.870997</td>\n    </tr>\n    <tr>\n      <th>51</th>\n      <td>9500.0</td>\n      <td>13.801885</td>\n    </tr>\n    <tr>\n      <th>52</th>\n      <td>9500.0</td>\n      <td>13.981994</td>\n    </tr>\n    <tr>\n      <th>53</th>\n      <td>9500.0</td>\n      <td>14.214002</td>\n    </tr>\n    <tr>\n      <th>54</th>\n      <td>10000.0</td>\n      <td>14.483017</td>\n    </tr>\n    <tr>\n      <th>55</th>\n      <td>10000.0</td>\n      <td>14.955554</td>\n    </tr>\n    <tr>\n      <th>56</th>\n      <td>10000.0</td>\n      <td>15.185996</td>\n    </tr>\n  </tbody>\n</table>\n</div>"
     },
     "execution_count": 9,
     "metadata": {},
     "output_type": "execute_result"
    }
   ],
   "source": [
    "test_result.to_csv(\"test_result.csv\")\n",
    "test_result"
   ],
   "metadata": {
    "collapsed": false
   }
  }
 ],
 "metadata": {
  "kernelspec": {
   "display_name": "Python 3",
   "language": "python",
   "name": "python3"
  },
  "language_info": {
   "codemirror_mode": {
    "name": "ipython",
    "version": 2
   },
   "file_extension": ".py",
   "mimetype": "text/x-python",
   "name": "python",
   "nbconvert_exporter": "python",
   "pygments_lexer": "ipython2",
   "version": "2.7.6"
  }
 },
 "nbformat": 4,
 "nbformat_minor": 0
}
